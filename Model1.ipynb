{
 "cells": [
  {
   "cell_type": "code",
   "execution_count": 3,
   "id": "848b16cf-8b72-4a6e-9fc9-218576fca3bd",
   "metadata": {},
   "outputs": [
    {
     "name": "stdout",
     "output_type": "stream",
     "text": [
      "Validation Accuracy: 0.9366\n",
      "Submission file saved as submission.csv\n"
     ]
    }
   ],
   "source": [
    "import pandas as pd\n",
    "import numpy as np\n",
    "from sklearn.model_selection import train_test_split\n",
    "from sklearn.preprocessing import LabelEncoder, StandardScaler\n",
    "from sklearn.ensemble import RandomForestClassifier\n",
    "from sklearn.metrics import accuracy_score\n",
    "\n",
    "# Load datasets\n",
    "train_df = pd.read_csv(\"train.csv\")\n",
    "test_df = pd.read_csv(\"test.csv\")\n",
    "\n",
    "# Drop unnecessary columns (like 'id' and 'Name')\n",
    "unnecessary_cols = [ \"Name\"]\n",
    "train_df.drop(columns=unnecessary_cols, inplace=True, errors='ignore')\n",
    "test_df.drop(columns=unnecessary_cols, inplace=True, errors='ignore')\n",
    "\n",
    "# Identify categorical columns (assumes object-type columns are categorical)\n",
    "categorical_columns = train_df.select_dtypes(include=[\"object\"]).columns.tolist()\n",
    "\n",
    "# Encode categorical features\n",
    "label_encoders = {}\n",
    "for col in categorical_columns:\n",
    "    le = LabelEncoder()\n",
    "    train_df[col] = le.fit_transform(train_df[col])\n",
    "\n",
    "    # Handle unseen labels in the test set\n",
    "    test_df[col] = test_df[col].apply(lambda x: le.transform([x])[0] if x in le.classes_ else -1)\n",
    "    \n",
    "    label_encoders[col] = le\n",
    "\n",
    "# Separate features and target\n",
    "X = train_df.drop(columns=[\"Depression\"], axis=1)\n",
    "y = train_df[\"Depression\"]\n",
    "\n",
    "# Scale numerical features\n",
    "scaler = StandardScaler()\n",
    "X_scaled = scaler.fit_transform(X)\n",
    "test_scaled = scaler.transform(test_df)\n",
    "\n",
    "# Train-test split\n",
    "X_train, X_val, y_train, y_val = train_test_split(X_scaled, y, test_size=0.2, random_state=42)\n",
    "\n",
    "# Train model\n",
    "model = RandomForestClassifier(n_estimators=100, random_state=42)\n",
    "model.fit(X_train, y_train)\n",
    "\n",
    "# Evaluate model\n",
    "y_pred = model.predict(X_val)\n",
    "accuracy = accuracy_score(y_val, y_pred)\n",
    "print(f\"Validation Accuracy: {accuracy:.4f}\")\n",
    "\n",
    "# Predict on test data\n",
    "test_predictions = model.predict(test_scaled)\n",
    "\n",
    "# Create submission file\n",
    "submission = pd.DataFrame({\"id\": test_df.id, \"Depression\": test_predictions})\n",
    "submission.to_csv(\"submission1.csv\", index=False)\n",
    "print(\"Submission file saved as submission.csv\")\n"
   ]
  },
  {
   "cell_type": "code",
   "execution_count": null,
   "id": "c8672fbe-1fc1-43da-aa03-32cbd1ea7968",
   "metadata": {},
   "outputs": [],
   "source": []
  }
 ],
 "metadata": {
  "kernelspec": {
   "display_name": "Python 3 (ipykernel)",
   "language": "python",
   "name": "python3"
  },
  "language_info": {
   "codemirror_mode": {
    "name": "ipython",
    "version": 3
   },
   "file_extension": ".py",
   "mimetype": "text/x-python",
   "name": "python",
   "nbconvert_exporter": "python",
   "pygments_lexer": "ipython3",
   "version": "3.12.5"
  }
 },
 "nbformat": 4,
 "nbformat_minor": 5
}
