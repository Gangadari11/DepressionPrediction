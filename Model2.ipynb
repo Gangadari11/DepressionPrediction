{
 "cells": [
  {
   "cell_type": "code",
   "execution_count": 2,
   "id": "3610d665-b665-4991-b41e-1fc2b177f720",
   "metadata": {},
   "outputs": [
    {
     "name": "stdout",
     "output_type": "stream",
     "text": [
      "Loading and preprocessing data...\n",
      "Creating and training model...\n"
     ]
    },
    {
     "name": "stderr",
     "output_type": "stream",
     "text": [
      "C:\\Users\\ACER\\AppData\\Roaming\\Python\\Python312\\site-packages\\sklearn\\impute\\_base.py:598: UserWarning: Skipping features without any observed values: ['total_pressure']. At least one non-missing value is needed for imputation with strategy='median'.\n",
      "  warnings.warn(\n",
      "C:\\Users\\ACER\\AppData\\Roaming\\Python\\Python312\\site-packages\\sklearn\\impute\\_base.py:598: UserWarning: Skipping features without any observed values: ['total_pressure']. At least one non-missing value is needed for imputation with strategy='median'.\n",
      "  warnings.warn(\n",
      "C:\\Users\\ACER\\AppData\\Roaming\\Python\\Python312\\site-packages\\sklearn\\impute\\_base.py:598: UserWarning: Skipping features without any observed values: ['total_pressure']. At least one non-missing value is needed for imputation with strategy='median'.\n",
      "  warnings.warn(\n",
      "C:\\Users\\ACER\\AppData\\Roaming\\Python\\Python312\\site-packages\\sklearn\\impute\\_base.py:598: UserWarning: Skipping features without any observed values: ['total_pressure']. At least one non-missing value is needed for imputation with strategy='median'.\n",
      "  warnings.warn(\n",
      "C:\\Users\\ACER\\AppData\\Roaming\\Python\\Python312\\site-packages\\sklearn\\impute\\_base.py:598: UserWarning: Skipping features without any observed values: ['total_pressure']. At least one non-missing value is needed for imputation with strategy='median'.\n",
      "  warnings.warn(\n",
      "C:\\Users\\ACER\\AppData\\Roaming\\Python\\Python312\\site-packages\\sklearn\\impute\\_base.py:598: UserWarning: Skipping features without any observed values: ['total_pressure']. At least one non-missing value is needed for imputation with strategy='median'.\n",
      "  warnings.warn(\n",
      "C:\\Users\\ACER\\AppData\\Roaming\\Python\\Python312\\site-packages\\sklearn\\impute\\_base.py:598: UserWarning: Skipping features without any observed values: ['total_pressure']. At least one non-missing value is needed for imputation with strategy='median'.\n",
      "  warnings.warn(\n",
      "C:\\Users\\ACER\\AppData\\Roaming\\Python\\Python312\\site-packages\\sklearn\\impute\\_base.py:598: UserWarning: Skipping features without any observed values: ['total_pressure']. At least one non-missing value is needed for imputation with strategy='median'.\n",
      "  warnings.warn(\n",
      "C:\\Users\\ACER\\AppData\\Roaming\\Python\\Python312\\site-packages\\sklearn\\impute\\_base.py:598: UserWarning: Skipping features without any observed values: ['total_pressure']. At least one non-missing value is needed for imputation with strategy='median'.\n",
      "  warnings.warn(\n",
      "C:\\Users\\ACER\\AppData\\Roaming\\Python\\Python312\\site-packages\\sklearn\\impute\\_base.py:598: UserWarning: Skipping features without any observed values: ['total_pressure']. At least one non-missing value is needed for imputation with strategy='median'.\n",
      "  warnings.warn(\n"
     ]
    },
    {
     "name": "stdout",
     "output_type": "stream",
     "text": [
      "Cross-validation scores: [0.89889837 0.90042644 0.89861407 0.8996091  0.90024876]\n",
      "Mean CV accuracy: 0.8996 (+/- 0.0014)\n"
     ]
    },
    {
     "name": "stderr",
     "output_type": "stream",
     "text": [
      "C:\\Users\\ACER\\AppData\\Roaming\\Python\\Python312\\site-packages\\sklearn\\impute\\_base.py:598: UserWarning: Skipping features without any observed values: ['total_pressure']. At least one non-missing value is needed for imputation with strategy='median'.\n",
      "  warnings.warn(\n"
     ]
    },
    {
     "name": "stdout",
     "output_type": "stream",
     "text": [
      "Generating submission file...\n"
     ]
    },
    {
     "name": "stderr",
     "output_type": "stream",
     "text": [
      "C:\\Users\\ACER\\AppData\\Roaming\\Python\\Python312\\site-packages\\sklearn\\impute\\_base.py:598: UserWarning: Skipping features without any observed values: ['total_pressure']. At least one non-missing value is needed for imputation with strategy='median'.\n",
      "  warnings.warn(\n"
     ]
    },
    {
     "name": "stdout",
     "output_type": "stream",
     "text": [
      "Submission file saved to submission.csv\n"
     ]
    }
   ],
   "source": [
    "import pandas as pd\n",
    "import numpy as np\n",
    "from sklearn.model_selection import train_test_split, cross_val_score\n",
    "from sklearn.preprocessing import LabelEncoder, StandardScaler\n",
    "from sklearn.ensemble import RandomForestClassifier, GradientBoostingClassifier\n",
    "from sklearn.metrics import accuracy_score, classification_report\n",
    "import xgboost as xgb\n",
    "from sklearn.pipeline import Pipeline\n",
    "from sklearn.impute import SimpleImputer\n",
    "\n",
    "def load_and_preprocess_data(train_path, test_path):\n",
    "    \"\"\"Load and preprocess the training and test datasets.\"\"\"\n",
    "    # Load data\n",
    "    train_df = pd.read_csv(train_path)\n",
    "    test_df = pd.read_csv(test_path)\n",
    "    \n",
    "    # Store test IDs for submission\n",
    "    test_ids = test_df['id'].copy()\n",
    "    \n",
    "    # Function to preprocess a single dataframe\n",
    "    def preprocess_df(df):\n",
    "        # Convert age to numeric, removing any non-numeric characters\n",
    "        df['Age'] = pd.to_numeric(df['Age'].astype(str).str.replace('[^0-9.]', ''), errors='coerce')\n",
    "        \n",
    "        # Handle missing values in CGPA\n",
    "        df['CGPA'] = pd.to_numeric(df['CGPA'].astype(str).str.replace('[^0-9.]', ''), errors='coerce')\n",
    "        \n",
    "        # Create binary features for Working Professional/Student\n",
    "        df['is_working_professional'] = (df['Working Professional or Student'] == 'Working Professional').astype(int)\n",
    "        \n",
    "        # Create features from city\n",
    "        df['is_metro_city'] = df['City'].isin(['Mumbai', 'Delhi', 'Bangalore', 'Kolkata', 'Chennai', 'Hyderabad']).astype(int)\n",
    "        \n",
    "        # Encode gender\n",
    "        df['gender_encoded'] = (df['Gender'] == 'Male').astype(int)\n",
    "        \n",
    "        # Create profession categories\n",
    "        df['is_teacher'] = df['Profession'].str.contains('Teacher|Professor|Educator', na=False, case=False).astype(int)\n",
    "        df['is_tech'] = df['Profession'].str.contains('Engineer|Developer|Programmer|IT', na=False, case=False).astype(int)\n",
    "        df['is_medical'] = df['Profession'].str.contains('Doctor|Nurse|Medical|Healthcare', na=False, case=False).astype(int)\n",
    "        \n",
    "        # Calculate pressure score (combined academic and work pressure)\n",
    "        df['total_pressure'] = df['Academic Pressure'] + df['Work Pressure']\n",
    "        \n",
    "        # Select features for model\n",
    "        features = ['Age', 'gender_encoded', 'is_working_professional', 'is_metro_city',\n",
    "                   'is_teacher', 'is_tech', 'is_medical', 'Academic Pressure', \n",
    "                   'Work Pressure', 'total_pressure', 'CGPA']\n",
    "        \n",
    "        return df[features]\n",
    "    \n",
    "    # Preprocess both datasets\n",
    "    X_train = preprocess_df(train_df)\n",
    "    X_test = preprocess_df(test_df)\n",
    "    \n",
    "    # Get target variable for training data\n",
    "    y_train = train_df['Depression']\n",
    "    \n",
    "    return X_train, y_train, X_test, test_ids\n",
    "\n",
    "def create_model():\n",
    "    \"\"\"Create and return the model pipeline.\"\"\"\n",
    "    # Create pipeline with imputer, scaler, and model\n",
    "    pipeline = Pipeline([\n",
    "        ('imputer', SimpleImputer(strategy='median')),\n",
    "        ('scaler', StandardScaler()),\n",
    "        ('model', GradientBoostingClassifier(\n",
    "            n_estimators=200,\n",
    "            learning_rate=0.1,\n",
    "            max_depth=5,\n",
    "            random_state=42\n",
    "        ))\n",
    "    ])\n",
    "    \n",
    "    return pipeline\n",
    "\n",
    "def train_and_evaluate_model(X_train, y_train, model):\n",
    "    \"\"\"Train the model and evaluate its performance using cross-validation.\"\"\"\n",
    "    # Perform cross-validation\n",
    "    cv_scores = cross_val_score(model, X_train, y_train, cv=5, scoring='accuracy')\n",
    "    print(f\"Cross-validation scores: {cv_scores}\")\n",
    "    print(f\"Mean CV accuracy: {cv_scores.mean():.4f} (+/- {cv_scores.std() * 2:.4f})\")\n",
    "    \n",
    "    # Train final model on full training data\n",
    "    model.fit(X_train, y_train)\n",
    "    \n",
    "    return model\n",
    "\n",
    "def generate_submission(model, X_test, test_ids, submission_path):\n",
    "    \"\"\"Generate submission file with predictions.\"\"\"\n",
    "    # Make predictions on test set\n",
    "    predictions = model.predict(X_test)\n",
    "    \n",
    "    # Create submission dataframe\n",
    "    submission_df = pd.DataFrame({\n",
    "        'id': test_ids,\n",
    "        'Depression': predictions\n",
    "    })\n",
    "    \n",
    "    # Save to CSV\n",
    "    submission_df.to_csv(submission_path, index=False)\n",
    "    print(f\"Submission file saved to {submission_path}\")\n",
    "\n",
    "def main():\n",
    "    # File paths\n",
    "    train_path = 'train.csv'\n",
    "    test_path = 'test.csv'\n",
    "    submission_path = 'submission.csv'\n",
    "    \n",
    "    # Load and preprocess data\n",
    "    print(\"Loading and preprocessing data...\")\n",
    "    X_train, y_train, X_test, test_ids = load_and_preprocess_data(train_path, test_path)\n",
    "    \n",
    "    # Create and train model\n",
    "    print(\"Creating and training model...\")\n",
    "    model = create_model()\n",
    "    trained_model = train_and_evaluate_model(X_train, y_train, model)\n",
    "    \n",
    "    # Generate submission file\n",
    "    print(\"Generating submission file...\")\n",
    "    generate_submission(trained_model, X_test, test_ids, submission_path)\n",
    "\n",
    "if __name__ == \"__main__\":\n",
    "    main()"
   ]
  },
  {
   "cell_type": "code",
   "execution_count": null,
   "id": "311ca1b2-5907-4c4e-959c-f7f76bb0b4e4",
   "metadata": {},
   "outputs": [],
   "source": []
  }
 ],
 "metadata": {
  "kernelspec": {
   "display_name": "Python 3 (ipykernel)",
   "language": "python",
   "name": "python3"
  },
  "language_info": {
   "codemirror_mode": {
    "name": "ipython",
    "version": 3
   },
   "file_extension": ".py",
   "mimetype": "text/x-python",
   "name": "python",
   "nbconvert_exporter": "python",
   "pygments_lexer": "ipython3",
   "version": "3.12.5"
  }
 },
 "nbformat": 4,
 "nbformat_minor": 5
}
